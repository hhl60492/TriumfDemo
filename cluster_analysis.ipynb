{
 "worksheets": [
  {
   "cells": [
    {
     "cell_type": "markdown",
     "metadata": {},
     "source": [
      "[home](http://www.brandonrose.org)"
     ]
    },
    {
     "cell_type": "heading",
     "metadata": {},
     "level": 1,
     "source": [
      "Document Clustering with Python"
     ]
    },
    {
     "cell_type": "markdown",
     "metadata": {},
     "source": [
      "<img src='header_short.jpg'>\n",
      "\n",
      "In this guide, I will explain how to cluster a set of documents using Python. My motivating example is to identify the latent structures within the synopses of the top 100 films of all time (per an IMDB list). See [the original post](http://www.brandonrose.org/top100) for a more detailed discussion on the example. This guide covers:\n",
      "\n",
      "<ul>\n",
      "<li> tokenizing and stemming each synopsis\n",
      "<li> transforming the corpus into vector space using [tf-idf](http://en.wikipedia.org/wiki/Tf%E2%80%93idf)\n",
      "<li> calculating cosine distance between each document as a measure of similarity\n",
      "<li> clustering the documents using the [k-means algorithm](http://en.wikipedia.org/wiki/K-means_clustering)\n",
      "<li> using [multidimensional scaling](http://en.wikipedia.org/wiki/Multidimensional_scaling) to reduce dimensionality within the corpus\n",
      "<li> plotting the clustering output using [matplotlib](http://matplotlib.org/) and [mpld3](http://mpld3.github.io/)\n",
      "<li> conducting a hierarchical clustering on the corpus using [Ward clustering](http://en.wikipedia.org/wiki/Ward%27s_method)\n",
      "<li> plotting a Ward dendrogram\n",
      "<li> topic modeling using [Latent Dirichlet Allocation (LDA)](http://en.wikipedia.org/wiki/Latent_Dirichlet_allocation)\n",
      "</ul>"
     ]
    },
    {
     "cell_type": "heading",
     "metadata": {},
     "level": 2,
     "source": [
      "Contents"
     ]
    },
    {
     "cell_type": "markdown",
     "metadata": {},
     "source": [
      "<ul>\n",
      "<li>[Stopwords, stemming, and tokenization](#Stopwords,-stemming,-and-tokenizing)\n",
      "<li>[Tf-idf and document similarity](#Tf-idf-and-document-similarity)\n",
      "<li>[K-means clustering](#K-means-clustering)\n",
      "<li>[Multidimensional scaling](#Multidimensional-scaling)\n",
      "<li>[Visualizing document clusters](#Visualizing-document-clusters)\n",
      "<li>[Hierarchical document clustering](#Hierarchical-document-clustering)\n",
      "<li>[Latent Dirichlet Allocation (LDA)](#Latent-Dirichlet-Allocation)\n",
      "</ul>"
     ]
    },
    {
     "cell_type": "markdown",
     "metadata": {},
     "source": [
      "But first, I import everything I am going to need up front"
     ]
    },
    {
     "cell_type": "code",
     "execution_count": null,
     "metadata": {},
     "outputs": [],
     "input": [
      "import numpy as np\n",
      "import pandas as pd\n",
      "import nltk\n",
      "from bs4 import BeautifulSoup\n",
      "import re\n",
      "import os\n",
      "import codecs\n",
      "from sklearn import feature_extraction\n",
      "import mpld3"
     ],
     "language": "python",
     "prompt_number": 2
    },
    {
     "cell_type": "heading",
     "metadata": {},
     "level": 1,
     "source": [
      "Stopwords, stemming, and tokenizing"
     ]
    },
    {
     "cell_type": "code",
     "execution_count": null,
     "metadata": {},
     "outputs": [
      {
       "stream": "stdout",
       "output_type": "stream",
       "text": [
        "100 titles\n100 links\n100 synopses\n100 genres\n"
       ]
      }
     ],
     "input": [
      "#import three lists: titles, links and wikipedia synopses\n",
      "titles = open('title_list.txt').read().split('\\n')\n",
      "#ensures that only the first 100 are read in\n",
      "titles = titles[:100]\n",
      "\n",
      "links = open('link_list_imdb.txt').read().split('\\n')\n",
      "links = links[:100]\n",
      "\n",
      "synopses_wiki = open('synopses_list_wiki.txt', encoding=\"utf8\").read().split('\\n BREAKS HERE')\n",
      "synopses_wiki = synopses_wiki[:100]\n",
      "\n",
      "synopses_clean_wiki = []\n",
      "for text in synopses_wiki:\n",
      "    text = BeautifulSoup(text, 'html.parser').getText()\n",
      "    #strips html formatting and converts to unicode\n",
      "    synopses_clean_wiki.append(text)\n",
      "\n",
      "synopses_wiki = synopses_clean_wiki\n",
      "    \n",
      "    \n",
      "genres = open('genres_list.txt').read().split('\\n')\n",
      "genres = genres[:100]\n",
      "\n",
      "print(str(len(titles)) + ' titles')\n",
      "print(str(len(links)) + ' links')\n",
      "print(str(len(synopses_wiki)) + ' synopses')\n",
      "print(str(len(genres)) + ' genres')"
     ],
     "language": "python",
     "prompt_number": 3
    },
    {
     "cell_type": "code",
     "execution_count": null,
     "metadata": {},
     "outputs": [],
     "input": [
      "synopses_imdb = open('synopses_list_imdb.txt').read().split('\\n BREAKS HERE')\n",
      "synopses_imdb = synopses_imdb[:100]\n",
      "\n",
      "synopses_clean_imdb = []\n",
      "\n",
      "for text in synopses_imdb:\n",
      "    text = BeautifulSoup(text, 'html.parser').getText()\n",
      "    #strips html formatting and converts to unicode\n",
      "    synopses_clean_imdb.append(text)\n",
      "\n",
      "synopses_imdb = synopses_clean_imdb"
     ],
     "language": "python",
     "prompt_number": 4
    },
    {
     "cell_type": "code",
     "execution_count": null,
     "metadata": {},
     "outputs": [],
     "input": [
      "synopses = []\n",
      "\n",
      "for i in range(len(synopses_wiki)):\n",
      "    item = synopses_wiki[i] + synopses_imdb[i]\n",
      "    synopses.append(item)"
     ],
     "language": "python",
     "prompt_number": 5
    },
    {
     "cell_type": "code",
     "execution_count": null,
     "metadata": {},
     "outputs": [],
     "input": [
      "# generates index for each item in the corpora (in this case it's just rank) and I'll use this for scoring later\n",
      "ranks = []\n",
      "\n",
      "for i in range(0,len(titles)):\n",
      "    ranks.append(i)"
     ],
     "language": "python",
     "prompt_number": 6
    },
    {
     "cell_type": "markdown",
     "metadata": {},
     "source": [
      "This section is focused on defining some functions to manipulate the synopses. First, I load [NLTK's](http://www.nltk.org/) list of English stop words. [Stop words](http://en.wikipedia.org/wiki/Stop_words) are words like \"a\", \"the\", or \"in\" which don't convey significant meaning. I'm sure there are much better explanations of this out there."
     ]
    },
    {
     "cell_type": "code",
     "execution_count": null,
     "metadata": {},
     "outputs": [],
     "input": [
      "# load nltk's English stopwords as variable called 'stopwords'\n",
      "stopwords = nltk.corpus.stopwords.words('english')"
     ],
     "language": "python",
     "prompt_number": 7
    },
    {
     "cell_type": "markdown",
     "metadata": {},
     "source": [
      "Next I import the [Snowball Stemmer](http://snowball.tartarus.org/) which is actually part of NLTK. [Stemming](http://en.wikipedia.org/wiki/Stemming) is just the process of breaking a word down into its root."
     ]
    },
    {
     "cell_type": "code",
     "execution_count": null,
     "metadata": {},
     "outputs": [],
     "input": [
      "# load nltk's SnowballStemmer as variabled 'stemmer'\n",
      "from nltk.stem.snowball import SnowballStemmer\n",
      "stemmer = SnowballStemmer(\"english\")"
     ],
     "language": "python",
     "prompt_number": 8
    },
    {
     "cell_type": "markdown",
     "metadata": {},
     "source": [
      "\n",
      "Below I define two functions:\n",
      "\n",
      "<ul>\n",
      "<li> *tokenize_and_stem*: tokenizes (splits the synopsis into a list of its respective words (or tokens) and also stems each token <li> *tokenize_only*: tokenizes the synopsis only\n",
      "</ul>\n",
      "\n",
      "I use both these functions to create a dictionary which becomes important in case I want to use stems for an algorithm, but later convert stems back to their full words for presentation purposes. Guess what, I do want to do that!\n",
      "\n"
     ]
    },
    {
     "cell_type": "code",
     "execution_count": null,
     "metadata": {},
     "outputs": [],
     "input": [
      "# here I define a tokenizer and stemmer which returns the set of stems in the text that it is passed\n",
      "\n",
      "def tokenize_and_stem(text):\n",
      "    # first tokenize by sentence, then by word to ensure that punctuation is caught as it's own token\n",
      "    tokens = [word for sent in nltk.sent_tokenize(text) for word in nltk.word_tokenize(sent)]\n",
      "    filtered_tokens = []\n",
      "    # filter out any tokens not containing letters (e.g., numeric tokens, raw punctuation)\n",
      "    for token in tokens:\n",
      "        if re.search('[a-zA-Z]', token):\n",
      "            filtered_tokens.append(token)\n",
      "    stems = [stemmer.stem(t) for t in filtered_tokens]\n",
      "    return stems\n",
      "\n",
      "\n",
      "def tokenize_only(text):\n",
      "    # first tokenize by sentence, then by word to ensure that punctuation is caught as it's own token\n",
      "    tokens = [word.lower() for sent in nltk.sent_tokenize(text) for word in nltk.word_tokenize(sent)]\n",
      "    filtered_tokens = []\n",
      "    # filter out any tokens not containing letters (e.g., numeric tokens, raw punctuation)\n",
      "    for token in tokens:\n",
      "        if re.search('[a-zA-Z]', token):\n",
      "            filtered_tokens.append(token)\n",
      "    return filtered_tokens"
     ],
     "language": "python",
     "prompt_number": 9
    },
    {
     "cell_type": "markdown",
     "metadata": {},
     "source": [
      "Below I use my stemming/tokenizing and tokenizing functions to iterate over the list of synopses to create two vocabularies: one stemmed and one only tokenized. "
     ]
    },
    {
     "cell_type": "code",
     "execution_count": null,
     "metadata": {},
     "outputs": [],
     "input": [
      "totalvocab_stemmed = []\n",
      "totalvocab_tokenized = []\n",
      "for i in synopses:\n",
      "    allwords_stemmed = tokenize_and_stem(i)\n",
      "    totalvocab_stemmed.extend(allwords_stemmed)\n",
      "    \n",
      "    allwords_tokenized = tokenize_only(i)\n",
      "    totalvocab_tokenized.extend(allwords_tokenized)"
     ],
     "language": "python",
     "prompt_number": 10
    },
    {
     "cell_type": "markdown",
     "metadata": {},
     "source": [
      "Using these two lists, I create a pandas DataFrame with the stemmed vocabulary as the index and the tokenized words as the column. The benefit of this is it provides an efficient way to look up a stem and return a full token. The downside here is that stems to tokens are one to many: the stem 'run' could be associated with 'ran', 'runs', 'running', etc. For my purposes this is fine--I'm perfectly happy returning the first token associated with the stem I need to look up."
     ]
    },
    {
     "cell_type": "code",
     "execution_count": null,
     "metadata": {},
     "outputs": [],
     "input": [
      "vocab_frame = pd.DataFrame({'words': totalvocab_tokenized}, index = totalvocab_stemmed)"
     ],
     "language": "python",
     "prompt_number": 11
    },
    {
     "cell_type": "heading",
     "metadata": {},
     "level": 2,
     "source": [
      "Tf-idf and document similarity"
     ]
    },
    {
     "cell_type": "markdown",
     "metadata": {},
     "source": [
      "<img src='http://www.jiem.org/index.php/jiem/article/viewFile/293/252/2402' align='right' style=\"margin-left:10px\">\n",
      "\n",
      "Here, I define term frequency-inverse document frequency (tf-idf) vectorizer parameters and then convert the *synopses* list into a tf-idf matrix. \n",
      "\n",
      "To get a Tf-idf matrix, first count word occurrences by document. This is transformed into a document-term matrix (dtm). This is also just called a term frequency matrix. An example of a dtm is here at right.\n",
      "\n",
      "Then apply the term frequency-inverse document frequency weighting: words that occur frequently within a document but not frequently within the corpus receive a higher weighting as these words are assumed to contain more meaning in relation to the document.\n",
      "\n",
      "A couple things to note about the parameters I define below:\n",
      "\n",
      "<ul>\n",
      "<li> max_df: this is the maximum frequency within the documents a given feature can have to be used in the tfi-idf matrix. If the term is in greater than 80% of the documents it probably cares little meanining (in the context of film synopses)\n",
      "<li> min_idf: this could be an integer (e.g. 5) and the term would have to be in at least 5 of the documents to be considered. Here I pass 0.2; the term must be in at least 20% of the document. I found that if I allowed a lower min_df I ended up basing clustering on names--for example \"Michael\" or \"Tom\" are names found in several of the movies and the synopses use these names frequently, but the names carry no real meaning.\n",
      "<li> ngram_range: this just means I'll look at unigrams, bigrams and trigrams. See [n-grams](http://en.wikipedia.org/wiki/N-gram)\n",
      "</ul>"
     ]
    },
    {
     "cell_type": "code",
     "execution_count": null,
     "metadata": {},
     "outputs": [
      {
       "stream": "stdout",
       "output_type": "stream",
       "text": [
        "Wall time: 9.28 s\n(100, 563)\n"
       ]
      }
     ],
     "input": [
      "from sklearn.feature_extraction.text import TfidfVectorizer\n",
      "\n",
      "tfidf_vectorizer = TfidfVectorizer(max_df=0.8, max_features=200000,\n",
      "                                 min_df=0.2, stop_words='english',\n",
      "                                 use_idf=True, tokenizer=tokenize_and_stem, ngram_range=(1,3))\n",
      "\n",
      "%time tfidf_matrix = tfidf_vectorizer.fit_transform(synopses)\n",
      "\n",
      "print(tfidf_matrix.shape)"
     ],
     "language": "python",
     "prompt_number": 13
    },
    {
     "cell_type": "code",
     "execution_count": null,
     "metadata": {},
     "outputs": [],
     "input": [
      "terms = tfidf_vectorizer.get_feature_names()"
     ],
     "language": "python",
     "prompt_number": 14
    },
    {
     "cell_type": "code",
     "execution_count": null,
     "metadata": {},
     "outputs": [],
     "input": [
      "from sklearn.metrics.pairwise import cosine_similarity\n",
      "dist = 1 - cosine_similarity(tfidf_matrix)"
     ],
     "language": "python",
     "prompt_number": 15
    },
    {
     "cell_type": "heading",
     "metadata": {},
     "level": 1,
     "source": [
      "K-means clustering"
     ]
    },
    {
     "cell_type": "markdown",
     "metadata": {},
     "source": [
      "Now onto the fun part. Using the tf-idf matrix, you can run a slew of clustering algorithms to better understand the hidden structure within the synopses. I first chose [k-means](http://en.wikipedia.org/wiki/K-means_clustering). K-means initializes with a pre-determined number of clusters (I chose 5). Each observation is assigned to a cluster (cluster assignment) so as to minimize the within cluster sum of squares. Next, the mean of the clustered observations is calculated and used as the new cluster centroid. Then, observations are reassigned to clusters and  centroids recalculated in an iterative process until the algorithm reaches convergence.\n",
      "\n",
      "I found it took several runs for the algorithm to converge a global optimum as k-means is susceptible to reaching local optima. "
     ]
    },
    {
     "cell_type": "code",
     "execution_count": null,
     "metadata": {},
     "outputs": [
      {
       "stream": "stdout",
       "output_type": "stream",
       "text": [
        "Wall time: 506 ms\n"
       ]
      }
     ],
     "input": [
      "from sklearn.cluster import KMeans\n",
      "\n",
      "num_clusters = 5\n",
      "\n",
      "km = KMeans(n_clusters=num_clusters)\n",
      "\n",
      "%time km.fit(tfidf_matrix)\n",
      "\n",
      "clusters = km.labels_.tolist()"
     ],
     "language": "python",
     "prompt_number": 16
    },
    {
     "cell_type": "code",
     "execution_count": null,
     "metadata": {},
     "outputs": [
      {
       "stream": "stderr",
       "output_type": "stream",
       "text": [
        "C:\\Users\\root\\AppData\\Local\\Programs\\Python\\Python35\\lib\\site-packages\\sklearn\\base.py:312: UserWarning: Trying to unpickle estimator KMeans from version pre-0.18 when using version 0.19.0. This might lead to breaking code or invalid results. Use at your own risk.\n  UserWarning)\nC:\\Users\\root\\AppData\\Local\\Programs\\Python\\Python35\\lib\\site-packages\\ipykernel_launcher.py:4: DeprecationWarning: The file 'doc_cluster.pkl' has been generated with a joblib version less than 0.10. Please regenerate this pickle file.\n  after removing the cwd from sys.path.\n"
       ]
      }
     ],
     "input": [
      "from sklearn.externals import joblib\n",
      "\n",
      "#joblib.dump(km,  'doc_cluster.pkl')\n",
      "km = joblib.load('doc_cluster.pkl')\n",
      "clusters = km.labels_.tolist()"
     ],
     "language": "python",
     "prompt_number": 17
    },
    {
     "cell_type": "code",
     "execution_count": null,
     "metadata": {},
     "outputs": [],
     "input": [
      "import pandas as pd\n",
      "\n",
      "films = { 'title': titles, 'rank': ranks, 'synopsis': synopses, 'cluster': clusters, 'genre': genres }\n",
      "\n",
      "frame = pd.DataFrame(films, index = [clusters] , columns = ['rank', 'title', 'cluster', 'genre'])"
     ],
     "language": "python",
     "prompt_number": 18
    },
    {
     "cell_type": "code",
     "execution_count": null,
     "metadata": {},
     "outputs": [
      {
       "prompt_number": 19,
       "metadata": {},
       "output_type": "pyout",
       "text": [
        "4    26\n0    25\n2    21\n1    16\n3    12\nName: cluster, dtype: int64"
       ]
      }
     ],
     "input": [
      "frame['cluster'].value_counts()"
     ],
     "language": "python",
     "prompt_number": 19
    },
    {
     "cell_type": "code",
     "execution_count": null,
     "metadata": {},
     "outputs": [
      {
       "prompt_number": 20,
       "metadata": {},
       "output_type": "pyout",
       "text": [
        "cluster\n0    47.200000\n1    58.875000\n2    49.380952\n3    54.500000\n4    43.730769\nName: rank, dtype: float64"
       ]
      }
     ],
     "input": [
      "grouped = frame['rank'].groupby(frame['cluster'])\n",
      "\n",
      "grouped.mean()"
     ],
     "language": "python",
     "prompt_number": 20
    },
    {
     "cell_type": "code",
     "execution_count": null,
     "metadata": {},
     "outputs": [
      {
       "stream": "stdout",
       "output_type": "stream",
       "text": [
        "Top terms per cluster:\n\nCluster 0 words: b'family', b'home', b'mother', b'war', b'house', b'dies',\n\nCluster 0 titles: Schindler's List, One Flew Over the Cuckoo's Nest, Gone with the Wind,"
       ]
      },
      {
       "stream": "stdout",
       "output_type": "stream",
       "text": [
        " The Wizard of Oz, Titanic, Forrest Gump, E.T. the Extra-Terrestrial, The Silence of the Lambs, Gandhi, A Streetcar Named Desire, The Best Years of Our Lives, My Fair Lady, Ben-Hur, Doctor Zhivago, The Pianist, The Exorcist, Out of Africa, Good Will Hunting, Terms of Endearment, Giant, The Grapes of Wrath, Close Encounters of the Third Kind, The Graduate, Stagecoach, Wuthering Heights,\n\nCluster 1 words: b'police', b'car', b'killed', b'murders', b'driving', b'house',\n\nCluster 1 titles: Casablanca, Psycho, Sunset Blvd., Vertigo, Chinatown, Amadeus, High Noon, The French Connection, Fargo, Pulp Fiction, The Maltese Falcon, A Clockwork Orange, Double Indemnity, Rebel Without a Cause, The Third Man, North by Northwest,\n\nCluster 2 words: b'father', b'new', b'york', b'new', b'brothers', b'apartments',\n\nCluster 2 titles: The Godfather, Raging Bull, Citizen Kane, The Godfather: Part II, On the Waterfront, 12 Angry Men, Rocky, To Kill a Mockingbird, Braveheart, The Good, the Bad and the Ugly, The Apartment, Goodfellas, City Lights, It Happened One Night, Midnight Cowboy, Mr. Smith Goes to Washington, Rain Man, Annie Hall, Network, Taxi Driver, Rear Window,\n\nCluster 3 words: b'george', b'dance', b'singing', b'john', b'love', b'perform',\n\nCluster 3 titles: West Side Story, Singin' in the Rain, It's a Wonderful Life, Some Like It Hot, The Philadelphia Story, An American in Paris, The King's Speech, A Place in the Sun, Tootsie, Nashville, American Graffiti, Yankee Doodle Dandy,\n\nCluster 4 words: b'killed', b'soldiers', b'captain', b'men', b'army', b'command',\n\nCluster 4 titles: The Shawshank Redemption, Lawrence of Arabia, The Sound of Music, Star Wars, 2001: A Space Odyssey, The Bridge on the River Kwai, Dr. Strangelove or: How I Learned to Stop Worrying and Love the Bomb, Apocalypse Now, The Lord of the Rings: The Return of the King, Gladiator, From Here to Eternity, Saving Private Ryan, Unforgiven, Raiders of the Lost Ark, Patton, Jaws, Butch Cassidy and the Sundance Kid, The Treasure of the Sierra Madre, Platoon, Dances with Wolves, The Deer Hunter, All Quiet on the Western Front, Shane, The Green Mile, The African Queen, Mutiny on the Bounty,\n\n"
       ]
      },
      {
       "stream": "stderr",
       "output_type": "stream",
       "text": [
        "C:\\Users\\root\\AppData\\Local\\Programs\\Python\\Python35\\lib\\site-packages\\ipykernel_launcher.py:9: DeprecationWarning: \n.ix is deprecated. Please use\n.loc for label based indexing or\n.iloc for positional indexing\n\nSee the documentation here:\nhttp://pandas.pydata.org/pandas-docs/stable/indexing.html#deprecate_ix\n  if __name__ == '__main__':\nC:\\Users\\root\\AppData\\Local\\Programs\\Python\\Python35\\lib\\site-packages\\ipykernel_launcher.py:13: DeprecationWarning: \n.ix is deprecated. Please use\n.loc for label based indexing or\n.iloc for positional indexing\n\nSee the documentation here:\nhttp://pandas.pydata.org/pandas-docs/stable/indexing.html#deprecate_ix\n  del sys.path[0]\n"
       ]
      }
     ],
     "input": [
      "from __future__ import print_function\n",
      "\n",
      "print(\"Top terms per cluster:\")\n",
      "print()\n",
      "order_centroids = km.cluster_centers_.argsort()[:, ::-1]\n",
      "for i in range(num_clusters):\n",
      "    print(\"Cluster %d words:\" % i, end='')\n",
      "    for ind in order_centroids[i, :6]:\n",
      "        print(' %s' % vocab_frame.ix[terms[ind].split(' ')].values.tolist()[0][0].encode('utf-8', 'ignore'), end=',')\n",
      "    print()\n",
      "    print()\n",
      "    print(\"Cluster %d titles:\" % i, end='')\n",
      "    for title in frame.ix[i]['title'].values.tolist():\n",
      "        print(' %s,' % title, end='')\n",
      "    print()\n",
      "    print()"
     ],
     "language": "python",
     "prompt_number": 21
    },
    {
     "cell_type": "code",
     "execution_count": null,
     "metadata": {},
     "outputs": [],
     "input": [
      "#This is purely to help export tables to html and to correct for my 0 start rank (so that Godfather is 1, not 0)\n",
      "frame['Rank'] = frame['rank'] + 1\n",
      "frame['Title'] = frame['title']"
     ],
     "language": "python",
     "prompt_number": 22
    },
    {
     "cell_type": "code",
     "execution_count": null,
     "metadata": {},
     "outputs": [
      {
       "stream": "stdout",
       "output_type": "stream",
       "text": [
        "<table border=\"1\" class=\"dataframe\">\n  <thead>\n    <tr style=\"text-align: right;\">\n      <th>Rank</th>\n      <th>Title</th>\n    </tr>\n  </thead>\n  <tbody>\n    <tr>\n      <td>5</td>\n      <td>Casablanca</td>\n    </tr>\n    <tr>\n      <td>13</td>\n      <td>Psycho</td>\n    </tr>\n    <tr>\n      <td>14</td>\n      <td>Sunset Blvd.</td>\n    </tr>\n    <tr>\n      <td>15</td>\n      <td>Vertigo</td>\n    </tr>\n    <tr>\n      <td>24</td>\n      <td>Chinatown</td>\n    </tr>\n    <tr>\n      <td>31</td>\n      <td>Amadeus</td>\n    </tr>\n    <tr>\n      <td>57</td>\n      <td>High Noon</td>\n    </tr>\n    <tr>\n      <td>64</td>\n      <td>The French Connection</td>\n    </tr>\n    <tr>\n      <td>77</td>\n      <td>Fargo</td>\n    </tr>\n    <tr>\n      <td>87</td>\n      <td>Pulp Fiction</td>\n    </tr>\n    <tr>\n      <td>91</td>\n      <td>The Maltese Falcon</td>\n    </tr>\n    <tr>\n      <td>92</td>\n      <td>A Clockwork Orange</td>\n    </tr>\n    <tr>\n      <td>95</td>\n      <td>Double Indemnity</td>\n    </tr>\n    <tr>\n      <td>96</td>\n      <td>Rebel Without a Cause</td>\n    </tr>\n    <tr>\n      <td>98</td>\n      <td>The Third Man</td>\n    </tr>\n    <tr>\n      <td>99</td>\n      <td>North by Northwest</td>\n    </tr>\n  </tbody>\n</table>\n"
       ]
      }
     ],
     "input": [
      "#export tables to HTML\n",
      "print(frame[['Rank', 'Title']].loc[frame['cluster'] == 1].to_html(index=False))"
     ],
     "language": "python",
     "prompt_number": 23
    },
    {
     "cell_type": "heading",
     "metadata": {},
     "level": 1,
     "source": [
      "Multidimensional scaling"
     ]
    },
    {
     "cell_type": "code",
     "execution_count": null,
     "metadata": {},
     "outputs": [],
     "input": [
      "import os  # for os.path.basename\n",
      "\n",
      "import matplotlib.pyplot as plt\n",
      "import matplotlib as mpl\n",
      "\n",
      "from sklearn.manifold import MDS\n",
      "\n",
      "MDS()\n",
      "\n",
      "# two components as we're plotting points in a two-dimensional plane\n",
      "# \"precomputed\" because we provide a distance matrix\n",
      "# we will also specify `random_state` so the plot is reproducible.\n",
      "mds = MDS(n_components=2, dissimilarity=\"precomputed\", random_state=1)\n",
      "\n",
      "pos = mds.fit_transform(dist)  # shape (n_components, n_samples)\n",
      "\n",
      "xs, ys = pos[:, 0], pos[:, 1]"
     ],
     "language": "python",
     "prompt_number": 24
    },
    {
     "cell_type": "code",
     "execution_count": null,
     "metadata": {},
     "outputs": [],
     "input": [
      "#strip any proper nouns (NNP) or plural proper nouns (NNPS) from a text\n",
      "from nltk.tag import pos_tag\n",
      "\n",
      "def strip_proppers_POS(text):\n",
      "    tagged = pos_tag(text.split()) #use NLTK's part of speech tagger\n",
      "    non_propernouns = [word for word,pos in tagged if pos != 'NNP' and pos != 'NNPS']\n",
      "    return non_propernouns"
     ],
     "language": "python",
     "prompt_number": 25
    },
    {
     "cell_type": "heading",
     "metadata": {},
     "level": 2,
     "source": [
      "Visualizing document clusters"
     ]
    },
    {
     "cell_type": "code",
     "execution_count": null,
     "metadata": {},
     "outputs": [],
     "input": [
      "#set up colors per clusters using a dict\n",
      "cluster_colors = {0: '#1b9e77', 1: '#d95f02', 2: '#7570b3', 3: '#e7298a', 4: '#66a61e'}\n",
      "\n",
      "#set up cluster names using a dict\n",
      "cluster_names = {0: 'Family, home, war', \n",
      "                 1: 'Police, killed, murders', \n",
      "                 2: 'Father, New York, brothers', \n",
      "                 3: 'Dance, singing, love', \n",
      "                 4: 'Killed, soldiers, captain'}"
     ],
     "language": "python",
     "prompt_number": 26
    },
    {
     "cell_type": "code",
     "execution_count": null,
     "metadata": {},
     "outputs": [],
     "input": [
      "%matplotlib inline"
     ],
     "language": "python",
     "prompt_number": 27
    },
    {
     "cell_type": "code",
     "execution_count": null,
     "metadata": {
      "collapsed": true
     },
     "outputs": [
      {
       "stream": "stderr",
       "output_type": "stream",
       "text": [
        "C:\\Users\\root\\AppData\\Local\\Programs\\Python\\Python35\\lib\\site-packages\\ipykernel_launcher.py:32: DeprecationWarning: \n.ix is deprecated. Please use\n.loc for label based indexing or\n.iloc for positional indexing\n\nSee the documentation here:\nhttp://pandas.pydata.org/pandas-docs/stable/indexing.html#deprecate_ix\n"
       ]
      }
     ],
     "input": [
      "#create data frame that has the result of the MDS plus the cluster numbers and titles\n",
      "df = pd.DataFrame(dict(x=xs, y=ys, label=clusters, title=titles)) \n",
      "\n",
      "#group by cluster\n",
      "groups = df.groupby('label')\n",
      "\n",
      "\n",
      "# set up plot\n",
      "fig, ax = plt.subplots(figsize=(17, 9)) # set size\n",
      "ax.margins(0.05) # Optional, just adds 5% padding to the autoscaling\n",
      "\n",
      "#iterate through groups to layer the plot\n",
      "#note that I use the cluster_name and cluster_color dicts with the 'name' lookup to return the appropriate color/label\n",
      "for name, group in groups:\n",
      "    ax.plot(group.x, group.y, marker='o', linestyle='', ms=12, label=cluster_names[name], color=cluster_colors[name], mec='none')\n",
      "    ax.set_aspect('auto')\n",
      "    ax.tick_params(\\\n",
      "        axis= 'x',          # changes apply to the x-axis\n",
      "        which='both',      # both major and minor ticks are affected\n",
      "        bottom='off',      # ticks along the bottom edge are off\n",
      "        top='off',         # ticks along the top edge are off\n",
      "        labelbottom='off')\n",
      "    ax.tick_params(\\\n",
      "        axis= 'y',         # changes apply to the y-axis\n",
      "        which='both',      # both major and minor ticks are affected\n",
      "        left='off',      # ticks along the bottom edge are off\n",
      "        top='off',         # ticks along the top edge are off\n",
      "        labelleft='off')\n",
      "    \n",
      "ax.legend(numpoints=1)  #show legend with only 1 point\n",
      "\n",
      "#add label in x,y position with the label as the film title\n",
      "for i in range(len(df)):\n",
      "    ax.text(df.ix[i]['x'], df.ix[i]['y'], df.ix[i]['title'], size=8)  \n",
      "\n",
      "    \n",
      "    \n",
      "\n",
      "\n",
      "#uncomment the below to save the plot if need be\n",
      "plt.savefig('clusters_small_noaxes.png', dpi=400, transparent=True)\n",
      "plt.show() #show the plot"
     ],
     "language": "python",
     "prompt_number": 31
    },
    {
     "cell_type": "code",
     "execution_count": null,
     "metadata": {},
     "outputs": [],
     "input": [
      "plt.close()"
     ],
     "language": "python",
     "prompt_number": 37
    },
    {
     "cell_type": "markdown",
     "metadata": {},
     "source": [
      "The clustering plot looks great, but it pains my eyes to see overlapping labels. Having some experience with [D3.js](http://d3js.org/) I knew one solution would be to use a browser based/javascript interactive. Fortunately, I recently stumbled upon [mpld3](https://mpld3.github.io/) a matplotlib wrapper for D3. Mpld3 basically let's you use matplotlib syntax to create web interactives. It has a really easy, high-level API for adding tooltips on mouse hover, which is what I am interested in.\n",
      "\n",
      "It also has some nice functionality for zooming and panning. The below javascript snippet basicaly defines a custom location for where the zoom/pan toggle resides. Don't worry about it too much and you actually don't need to use it, but it helped for formatting purposes when exporting to the web later. The only thing you might want to change is the x and y attr for the position of the toolbar."
     ]
    },
    {
     "cell_type": "code",
     "execution_count": null,
     "metadata": {},
     "outputs": [],
     "input": [
      "#define custom toolbar location\n",
      "class TopToolbar(mpld3.plugins.PluginBase):\n",
      "    \"\"\"Plugin for moving toolbar to top of figure\"\"\"\n",
      "\n",
      "    JAVASCRIPT = \"\"\"\n",
      "    mpld3.register_plugin(\"toptoolbar\", TopToolbar);\n",
      "    TopToolbar.prototype = Object.create(mpld3.Plugin.prototype);\n",
      "    TopToolbar.prototype.constructor = TopToolbar;\n",
      "    function TopToolbar(fig, props){\n",
      "        mpld3.Plugin.call(this, fig, props);\n",
      "    };\n",
      "\n",
      "    TopToolbar.prototype.draw = function(){\n",
      "      // the toolbar svg doesn't exist\n",
      "      // yet, so first draw it\n",
      "      this.fig.toolbar.draw();\n",
      "\n",
      "      // then change the y position to be\n",
      "      // at the top of the figure\n",
      "      this.fig.toolbar.toolbar.attr(\"x\", 150);\n",
      "      this.fig.toolbar.toolbar.attr(\"y\", 400);\n",
      "\n",
      "      // then remove the draw function,\n",
      "      // so that it is not called again\n",
      "      this.fig.toolbar.draw = function() {}\n",
      "    }\n",
      "    \"\"\"\n",
      "    def __init__(self):\n",
      "        self.dict_ = {\"type\": \"toptoolbar\"}"
     ],
     "language": "python",
     "prompt_number": 38
    },
    {
     "cell_type": "code",
     "execution_count": null,
     "metadata": {},
     "outputs": [],
     "input": [
      "#create data frame that has the result of the MDS plus the cluster numbers and titles\n",
      "df = pd.DataFrame(dict(x=xs, y=ys, label=clusters, title=titles)) \n",
      "\n",
      "#group by cluster\n",
      "groups = df.groupby('label')\n",
      "\n",
      "#define custom css to format the font and to remove the axis labeling\n",
      "css = \"\"\"\n",
      "text.mpld3-text, div.mpld3-tooltip {\n",
      "  font-family:Arial, Helvetica, sans-serif;\n",
      "}\n",
      "\n",
      "g.mpld3-xaxis, g.mpld3-yaxis {\n",
      "display: none; }\n",
      "\"\"\"\n",
      "\n",
      "# Plot \n",
      "fig, ax = plt.subplots(figsize=(14,6)) #set plot size\n",
      "ax.margins(0.03) # Optional, just adds 5% padding to the autoscaling\n",
      "\n",
      "#iterate through groups to layer the plot\n",
      "#note that I use the cluster_name and cluster_color dicts with the 'name' lookup to return the appropriate color/label\n",
      "for name, group in groups:\n",
      "    points = ax.plot(group.x, group.y, marker='o', linestyle='', ms=18, label=cluster_names[name], mec='none', color=cluster_colors[name])\n",
      "    ax.set_aspect('auto')\n",
      "    labels = [i for i in group.title]\n",
      "    \n",
      "    #set tooltip using points, labels and the already defined 'css'\n",
      "    tooltip = mpld3.plugins.PointHTMLTooltip(points[0], labels,\n",
      "                                       voffset=10, hoffset=10, css=css)\n",
      "    #connect tooltip to fig\n",
      "    mpld3.plugins.connect(fig, tooltip, TopToolbar())    \n",
      "    \n",
      "    #set tick marks as blank\n",
      "    ax.axes.get_xaxis().set_ticks([])\n",
      "    ax.axes.get_yaxis().set_ticks([])\n",
      "    \n",
      "    #set axis as blank\n",
      "    ax.axes.get_xaxis().set_visible(False)\n",
      "    ax.axes.get_yaxis().set_visible(False)\n",
      "\n",
      "    \n",
      "ax.legend(numpoints=1) #show legend with only one dot\n",
      "\n",
      "mpld3.display() #show the plot\n",
      "\n",
      "#uncomment the below to export to html\n",
      "#html = mpld3.fig_to_html(fig)\n",
      "#print(html)"
     ],
     "language": "python",
     "prompt_number": 39
    },
    {
     "cell_type": "heading",
     "metadata": {},
     "level": 1,
     "source": [
      "Hierarchical document clustering"
     ]
    },
    {
     "cell_type": "code",
     "execution_count": null,
     "metadata": {},
     "outputs": [
      {
       "png": "[encoded data removed]",
       "metadata": {},
       "text": [
        "<matplotlib.figure.Figure at 0x216ca15c9e8>"
       ]
      }
     ],
     "input": [
      "from scipy.cluster.hierarchy import ward, dendrogram\n",
      "\n",
      "linkage_matrix = ward(dist) #define the linkage_matrix using ward clustering pre-computed distances\n",
      "\n",
      "fig, ax = plt.subplots(figsize=(15, 20)) # set size\n",
      "ax = dendrogram(linkage_matrix, orientation=\"right\", labels=titles);\n",
      "\n",
      "plt.tick_params(\\\n",
      "    axis= 'x',          # changes apply to the x-axis\n",
      "    which='both',      # both major and minor ticks are affected\n",
      "    bottom='off',      # ticks along the bottom edge are off\n",
      "    top='off',         # ticks along the top edge are off\n",
      "    labelbottom='off')\n",
      "\n",
      "plt.tight_layout() #show plot with tight layout\n",
      "\n",
      "#uncomment below to save figure\n",
      "plt.savefig('ward_clusters.png', dpi=200) #save figure as ward_clusters"
     ],
     "language": "python",
     "prompt_number": 42
    },
    {
     "cell_type": "code",
     "execution_count": null,
     "metadata": {},
     "outputs": [],
     "input": [
      "plt.close()"
     ],
     "language": "python",
     "prompt_number": 43
    },
    {
     "cell_type": "heading",
     "metadata": {},
     "level": 1,
     "source": [
      "Latent Dirichlet Allocation"
     ]
    },
    {
     "cell_type": "code",
     "execution_count": null,
     "metadata": {},
     "outputs": [],
     "input": [
      "#strip any proper names from a text...unfortunately right now this is yanking the first word from a sentence too.\n",
      "import string\n",
      "def strip_proppers(text):\n",
      "    # first tokenize by sentence, then by word to ensure that punctuation is caught as it's own token\n",
      "    tokens = [word for sent in nltk.sent_tokenize(text) for word in nltk.word_tokenize(sent) if word.islower()]\n",
      "    return \"\".join([\" \"+i if not i.startswith(\"'\") and i not in string.punctuation else i for i in tokens]).strip()"
     ],
     "language": "python",
     "prompt_number": 166
    },
    {
     "cell_type": "code",
     "execution_count": null,
     "metadata": {},
     "outputs": [],
     "input": [
      "#strip any proper nouns (NNP) or plural proper nouns (NNPS) from a text\n",
      "from nltk.tag import pos_tag\n",
      "\n",
      "def strip_proppers_POS(text):\n",
      "    tagged = pos_tag(text.split()) #use NLTK's part of speech tagger\n",
      "    non_propernouns = [word for word,pos in tagged if pos != 'NNP' and pos != 'NNPS']\n",
      "    return non_propernouns"
     ],
     "language": "python",
     "prompt_number": 167
    },
    {
     "cell_type": "code",
     "execution_count": null,
     "metadata": {},
     "outputs": [
      {
       "stream": "stdout",
       "output_type": "stream",
       "text": [
        "CPU times: user 15.4 s, sys: 142 ms, total: 15.6 s\n",
        "Wall time: 19 s\n",
        "CPU times: user 4.38 s, sys: 22.2 ms, total: 4.4 s"
       ]
      },
      {
       "stream": "stdout",
       "output_type": "stream",
       "text": [
        "\n",
        "Wall time: 4.6 s\n"
       ]
      }
     ],
     "input": [
      "#Latent Dirichlet Allocation implementation with Gensim\n",
      "\n",
      "from gensim import corpora, models, similarities \n",
      "\n",
      "#remove proper names\n",
      "preprocess = [strip_proppers(doc) for doc in synopses]\n",
      "\n",
      "%time tokenized_text = [tokenize_and_stem(text) for text in preprocess]\n",
      "\n",
      "%time texts = [[word for word in text if word not in stopwords] for text in tokenized_text]"
     ],
     "language": "python",
     "prompt_number": 168
    },
    {
     "cell_type": "code",
     "execution_count": null,
     "metadata": {},
     "outputs": [
      {
       "stream": "stdout",
       "output_type": "stream",
       "text": [
        "1839\n"
       ]
      }
     ],
     "input": [
      "#print(len([word for word in texts[0] if word not in stopwords]))\n",
      "print(len(texts[0]))"
     ],
     "language": "python",
     "prompt_number": 90
    },
    {
     "cell_type": "code",
     "execution_count": null,
     "metadata": {},
     "outputs": [],
     "input": [
      "dictionary = corpora.Dictionary(texts)"
     ],
     "language": "python",
     "prompt_number": 91
    },
    {
     "cell_type": "code",
     "execution_count": null,
     "metadata": {},
     "outputs": [],
     "input": [
      "dictionary.filter_extremes(no_below=1, no_above=0.8)"
     ],
     "language": "python",
     "prompt_number": 92
    },
    {
     "cell_type": "code",
     "execution_count": null,
     "metadata": {},
     "outputs": [],
     "input": [
      "corpus = [dictionary.doc2bow(text) for text in texts]"
     ],
     "language": "python",
     "prompt_number": 93
    },
    {
     "cell_type": "code",
     "execution_count": null,
     "metadata": {},
     "outputs": [
      {
       "prompt_number": 94,
       "metadata": {},
       "output_type": "pyout",
       "text": [
        "100"
       ]
      }
     ],
     "input": [
      "len(corpus)"
     ],
     "language": "python",
     "prompt_number": 94
    },
    {
     "cell_type": "code",
     "execution_count": null,
     "metadata": {},
     "outputs": [
      {
       "stream": "stdout",
       "output_type": "stream",
       "text": [
        "CPU times: user 9min 48s, sys: 3.98 s, total: 9min 52s\n",
        "Wall time: 11min 43s\n"
       ]
      }
     ],
     "input": [
      "%time lda = models.LdaModel(corpus, num_topics=5, id2word=dictionary, update_every=5, chunksize=10000, passes=100)"
     ],
     "language": "python",
     "prompt_number": 139
    },
    {
     "cell_type": "code",
     "execution_count": null,
     "metadata": {},
     "outputs": [
      {
       "stream": "stdout",
       "output_type": "stream",
       "text": [
        "[(1, 0.14010786617821663), (2, 0.2389980721391618), (3, 0.080853026271803449), (4, 0.53991713521730689)]\n"
       ]
      }
     ],
     "input": [
      "print(lda[corpus[0]])"
     ],
     "language": "python",
     "prompt_number": 140
    },
    {
     "cell_type": "code",
     "execution_count": null,
     "metadata": {},
     "outputs": [],
     "input": [
      "topics = lda.print_topics(5, num_words=20)"
     ],
     "language": "python",
     "prompt_number": 141
    },
    {
     "cell_type": "code",
     "execution_count": null,
     "metadata": {},
     "outputs": [],
     "input": [
      "topics_matrix = lda.show_topics(formatted=False, num_words=20)"
     ],
     "language": "python",
     "prompt_number": 143
    },
    {
     "cell_type": "code",
     "execution_count": null,
     "metadata": {},
     "outputs": [],
     "input": [
      "topics_matrix = np.array(topics_matrix)"
     ],
     "language": "python",
     "prompt_number": 144
    },
    {
     "cell_type": "code",
     "execution_count": null,
     "metadata": {},
     "outputs": [
      {
       "prompt_number": 145,
       "metadata": {},
       "output_type": "pyout",
       "text": [
        "(5, 20, 2)"
       ]
      }
     ],
     "input": [
      "topics_matrix.shape"
     ],
     "language": "python",
     "prompt_number": 145
    },
    {
     "cell_type": "code",
     "execution_count": null,
     "metadata": {},
     "outputs": [],
     "input": [
      "topic_words = topics_matrix[:,:,1]"
     ],
     "language": "python",
     "prompt_number": 146
    },
    {
     "cell_type": "code",
     "execution_count": null,
     "metadata": {},
     "outputs": [
      {
       "stream": "stdout",
       "output_type": "stream",
       "text": [
        "['famili', 'murder', 'prison', 'work', 'kill', 'life', 'guard', 'way', \"n't\", 'two', 'meet', 'would', 'death', 'say', 'll', 'vote', 'becom', 'ask', 'guilti', 'peopl']\n",
        "\n",
        "['love', 'marri', 'go', 'home', 'friend', 'show', 'day', 'father', 'meet', 'want', \"n't\", 'night', 'doe', 'apart', 'famili', 'work', 'film', 'first', 'sing', 'come']\n",
        "\n",
        "['kill', 'meet', 'arriv', 'first', 'two', 'order', 'escap', 'friend', 'say', 'famili', 'ask', 'call', 'attempt', 'father', 'later', 'refus', \"n't\", 'offer', 'name', 'away']\n",
        "\n",
        "['kill', 'soldier', 'men', 'order', 'shark', 'command', 'attack', 'water', 'war', 'offic', 'arriv', 'boat', 'die', 'wound', 'two', 'attempt', 'villag', 'fire', 'battl', 'shoot']\n",
        "\n",
        "['car', 'ask', 'polic', 'home', \"n't\", 'go', 'say', 'kill', 'run', 'hous', 'goe', 'two', 'friend', 'day', 'call', 'come', 'drive', 'meet', 'doe', 'away']\n",
        "\n"
       ]
      }
     ],
     "input": [
      "for i in topic_words:\n",
      "    print([str(word) for word in i])\n",
      "    print()"
     ],
     "language": "python",
     "prompt_number": 147
    }
   ]
  }
 ],
 "cells": [],
 "metadata": {
  "name": "",
  "signature": "sha256:305ffa734b111d79e104bedf8454e787d6804497bf7d1d51373abfcec6fb1f40"
 },
 "nbformat": 4,
 "nbformat_minor": 0
}